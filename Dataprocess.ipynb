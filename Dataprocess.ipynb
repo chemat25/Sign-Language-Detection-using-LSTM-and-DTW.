{
  "nbformat": 4,
  "nbformat_minor": 0,
  "metadata": {
    "colab": {
      "provenance": []
    },
    "kernelspec": {
      "name": "python3",
      "display_name": "Python 3"
    },
    "language_info": {
      "name": "python"
    }
  },
  "cells": [
    {
      "cell_type": "code",
      "source": [
        "!unzip \"/content/MP_Data.zip\""
      ],
      "metadata": {
        "id": "p-helaeZ8wUz"
      },
      "execution_count": null,
      "outputs": []
    },
    {
      "cell_type": "code",
      "source": [
        "import os\n",
        "import numpy as np\n",
        "\n",
        "def process_folders(root_folder):\n",
        "    mp_data_path = os.path.join(root_folder, \"MP_Data\")\n",
        "    for folder_name in os.listdir(mp_data_path):\n",
        "        folder_path = os.path.join(mp_data_path, folder_name)\n",
        "        if os.path.isdir(folder_path):\n",
        "            process_subfolders(folder_path)\n",
        "\n",
        "def process_subfolders(folder_path):\n",
        "    for subfolder_name in os.listdir(folder_path):\n",
        "        subfolder_path = os.path.join(folder_path, subfolder_name)\n",
        "        if os.path.isdir(subfolder_path):\n",
        "            process_files_in_subfolder(subfolder_path)\n",
        "def process_files_in_subfolder(subfolder_path):\n",
        "    target_file_count = 30\n",
        "    remove_files_to_reach_target(subfolder_path, target_file_count)\n",
        "    rename_files(subfolder_path)\n",
        "\n",
        "def euclidean_distance(vec1, vec2):\n",
        "    return np.linalg.norm(vec1 - vec2)\n",
        "\n",
        "def natural_sort_key(s):\n",
        "    import re\n",
        "    return [int(text) if text.isdigit() else text.lower() for text in re.split(r'(\\d+)', s)]\n",
        "\n",
        "def find_distance_array(folder_path):\n",
        "    files = sorted(os.listdir(folder_path), key=natural_sort_key)\n",
        "    distances = []\n",
        "\n",
        "    for i in range(len(files) - 1):\n",
        "        file1_path = os.path.join(folder_path, files[i])\n",
        "        file2_path = os.path.join(folder_path, files[i + 1])\n",
        "\n",
        "        vec1 = np.load(file1_path)\n",
        "        vec2 = np.load(file2_path)\n",
        "\n",
        "        distance = euclidean_distance(vec1, vec2)\n",
        "        distances.append((files[i], files[i + 1], distance))\n",
        "\n",
        "    return distances\n",
        "\n",
        "def remove_files_to_reach_target(folder_path, target_count):\n",
        "    distances = find_distance_array(folder_path)\n",
        "    distances.sort(key=lambda x: x[2])  # Sort based on distance\n",
        "\n",
        "    num_files_to_remove = len(os.listdir(folder_path)) - target_count\n",
        "    print(f\"Removing {num_files_to_remove} files...\")\n",
        "\n",
        "    for i in range(num_files_to_remove):\n",
        "        file_to_remove = os.path.join(folder_path, distances[i][0])\n",
        "        os.remove(file_to_remove)\n",
        "        print(f\"Removed {distances[i][0]}\")\n",
        "\n",
        "def rename_files(folder_path):\n",
        "    files = sorted(os.listdir(folder_path), key=natural_sort_key)\n",
        "    for i, file_name in enumerate(files):\n",
        "        new_name = f\"{i}.npy\"\n",
        "        os.rename(os.path.join(folder_path, file_name), os.path.join(folder_path, new_name))\n",
        "\n",
        "folder_path = \"/content\"\n",
        "process_folders(folder_path)"
      ],
      "metadata": {
        "id": "OgY-VlAqE1M1"
      },
      "execution_count": null,
      "outputs": []
    },
    {
      "cell_type": "code",
      "source": [
        "!zip -r features.zip /content/MP_Data"
      ],
      "metadata": {
        "id": "fon8p2n-GI8N"
      },
      "execution_count": null,
      "outputs": []
    }
  ]
}